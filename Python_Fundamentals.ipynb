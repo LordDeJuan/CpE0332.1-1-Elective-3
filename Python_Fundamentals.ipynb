{
  "nbformat": 4,
  "nbformat_minor": 0,
  "metadata": {
    "colab": {
      "provenance": [],
      "authorship_tag": "ABX9TyMQSqbP2NMpXP54zsptrThQ",
      "include_colab_link": true
    },
    "kernelspec": {
      "name": "python3",
      "display_name": "Python 3"
    },
    "language_info": {
      "name": "python"
    }
  },
  "cells": [
    {
      "cell_type": "markdown",
      "metadata": {
        "id": "view-in-github",
        "colab_type": "text"
      },
      "source": [
        "<a href=\"https://colab.research.google.com/github/LordDeJuan/CpE0332.1-1-Elective-3/blob/main/Python_Fundamentals.ipynb\" target=\"_parent\"><img src=\"https://colab.research.google.com/assets/colab-badge.svg\" alt=\"Open In Colab\"/></a>"
      ]
    },
    {
      "cell_type": "markdown",
      "source": [
        "Python Indentation"
      ],
      "metadata": {
        "id": "itA7QI-Fi9F7"
      }
    },
    {
      "cell_type": "code",
      "source": [
        "x = 3\n",
        "y = 2\n",
        "if x > y:\n",
        "  print(\"Five is greater than two!\")"
      ],
      "metadata": {
        "colab": {
          "base_uri": "https://localhost:8080/"
        },
        "id": "4RnxDJNBj3Aj",
        "outputId": "a4c78139-1365-44e6-fbab-c4856e4dc681"
      },
      "execution_count": 45,
      "outputs": [
        {
          "output_type": "stream",
          "name": "stdout",
          "text": [
            "Five is greater than two!\n"
          ]
        }
      ]
    },
    {
      "cell_type": "markdown",
      "source": [
        "Python Comment"
      ],
      "metadata": {
        "id": "_3kLvk7BkZPz"
      }
    },
    {
      "cell_type": "code",
      "source": [
        "print(\"Hello World\") #This is a python comment"
      ],
      "metadata": {
        "colab": {
          "base_uri": "https://localhost:8080/"
        },
        "id": "n80xmZNxkbLD",
        "outputId": "7c694c7c-332a-4b59-d35f-cb266868a5d0"
      },
      "execution_count": 8,
      "outputs": [
        {
          "output_type": "stream",
          "name": "stdout",
          "text": [
            "Hello World\n"
          ]
        }
      ]
    },
    {
      "cell_type": "markdown",
      "source": [
        "Python Variable"
      ],
      "metadata": {
        "id": "7QqoHJhjkre7"
      }
    },
    {
      "cell_type": "code",
      "source": [
        "z = 1\n",
        "z, s = 0, -1\n",
        "z, s, t = 8,9,10\n",
        "z\n",
        "s\n",
        "t"
      ],
      "metadata": {
        "colab": {
          "base_uri": "https://localhost:8080/"
        },
        "id": "5Y_SIVHnktoj",
        "outputId": "d66e1168-dc70-4c5e-dd99-a3f971be22ee"
      },
      "execution_count": 19,
      "outputs": [
        {
          "output_type": "execute_result",
          "data": {
            "text/plain": [
              "10"
            ]
          },
          "metadata": {},
          "execution_count": 19
        }
      ]
    },
    {
      "cell_type": "markdown",
      "source": [
        "Casting"
      ],
      "metadata": {
        "id": "unik7SLql_Oy"
      }
    },
    {
      "cell_type": "code",
      "source": [
        "b = \"Sally\" #This is a string\n",
        "b = float(4)\n",
        "b\n"
      ],
      "metadata": {
        "colab": {
          "base_uri": "https://localhost:8080/"
        },
        "id": "l_3I2EF6mAzj",
        "outputId": "1b4ae95b-4b29-4e54-e788-4641453c47cc"
      },
      "execution_count": 30,
      "outputs": [
        {
          "output_type": "execute_result",
          "data": {
            "text/plain": [
              "4.0"
            ]
          },
          "metadata": {},
          "execution_count": 30
        }
      ]
    },
    {
      "cell_type": "markdown",
      "source": [
        "Type() Function"
      ],
      "metadata": {
        "id": "Z15LRmYJmkBz"
      }
    },
    {
      "cell_type": "code",
      "source": [
        "print(type(b))"
      ],
      "metadata": {
        "colab": {
          "base_uri": "https://localhost:8080/"
        },
        "id": "L0l7_Q08mnsz",
        "outputId": "c88384aa-aa09-4459-f9a1-a865ec858527"
      },
      "execution_count": 26,
      "outputs": [
        {
          "output_type": "stream",
          "name": "stdout",
          "text": [
            "<class 'int'>\n"
          ]
        }
      ]
    },
    {
      "cell_type": "markdown",
      "source": [
        "Double Quotes and Single Quotes"
      ],
      "metadata": {
        "id": "pRLwSEhIm7uT"
      }
    },
    {
      "cell_type": "code",
      "source": [
        "w = \"Ana\"\n",
        "print(w)\n",
        "q = 'Ana'\n",
        "print(q)"
      ],
      "metadata": {
        "colab": {
          "base_uri": "https://localhost:8080/"
        },
        "id": "Qi5n_ycMm_zD",
        "outputId": "b78c3a0b-0505-4141-e8f1-a1f3ce5a3a2b"
      },
      "execution_count": 32,
      "outputs": [
        {
          "output_type": "stream",
          "name": "stdout",
          "text": [
            "Ana\n",
            "Ana\n"
          ]
        }
      ]
    },
    {
      "cell_type": "markdown",
      "source": [
        "Case Sensitive"
      ],
      "metadata": {
        "id": "rgcErYvenY36"
      }
    },
    {
      "cell_type": "code",
      "source": [
        "a = int(4)\n",
        "A = \"Sally\"\n",
        "a\n",
        "A"
      ],
      "metadata": {
        "colab": {
          "base_uri": "https://localhost:8080/",
          "height": 36
        },
        "id": "yQq8V3c7nbES",
        "outputId": "6b71e3a7-efb1-47a5-d7cd-49fbb6c78cbc"
      },
      "execution_count": 36,
      "outputs": [
        {
          "output_type": "execute_result",
          "data": {
            "text/plain": [
              "'Sally'"
            ],
            "application/vnd.google.colaboratory.intrinsic+json": {
              "type": "string"
            }
          },
          "metadata": {},
          "execution_count": 36
        }
      ]
    },
    {
      "cell_type": "markdown",
      "source": [
        "Multiple Variables"
      ],
      "metadata": {
        "id": "6-bQKP29n2MT"
      }
    },
    {
      "cell_type": "code",
      "source": [
        "h, i, j = \"one\", \"two\", \"three\"\n",
        "print(h)\n",
        "print(i)\n",
        "print(j)"
      ],
      "metadata": {
        "colab": {
          "base_uri": "https://localhost:8080/"
        },
        "id": "oCF1pOopn4yj",
        "outputId": "44e8ce1c-8a8b-4bbe-e618-ddf75010680f"
      },
      "execution_count": 37,
      "outputs": [
        {
          "output_type": "stream",
          "name": "stdout",
          "text": [
            "one\n",
            "two\n",
            "three\n"
          ]
        }
      ]
    },
    {
      "cell_type": "markdown",
      "source": [
        "Multiple Variables with Single Value"
      ],
      "metadata": {
        "id": "30lB8GrNoYVj"
      }
    },
    {
      "cell_type": "code",
      "source": [
        "k = l = m = \"four\"\n",
        "print(k)\n",
        "print(l)\n",
        "print(m)"
      ],
      "metadata": {
        "colab": {
          "base_uri": "https://localhost:8080/"
        },
        "id": "iakDNolooadz",
        "outputId": "6fa6b2a1-0af9-406e-da99-cc5960c2cbdb"
      },
      "execution_count": 38,
      "outputs": [
        {
          "output_type": "stream",
          "name": "stdout",
          "text": [
            "four\n",
            "four\n",
            "four\n"
          ]
        }
      ]
    },
    {
      "cell_type": "markdown",
      "source": [
        "Output Variable and Concatenation +"
      ],
      "metadata": {
        "id": "4kk72L92o22D"
      }
    },
    {
      "cell_type": "code",
      "source": [
        "n = \"enjoying\"\n",
        "p = \"Python programming is \"\n",
        "print(p+n)"
      ],
      "metadata": {
        "colab": {
          "base_uri": "https://localhost:8080/"
        },
        "id": "ivAsRU-Eo7k7",
        "outputId": "130b231d-f035-4bcb-8752-7b085c92786c"
      },
      "execution_count": 43,
      "outputs": [
        {
          "output_type": "stream",
          "name": "stdout",
          "text": [
            "Python programming is enjoying\n"
          ]
        }
      ]
    },
    {
      "cell_type": "markdown",
      "source": [
        "Arithmetic Operations"
      ],
      "metadata": {
        "id": "oumrvYl5vMxa"
      }
    },
    {
      "cell_type": "code",
      "source": [
        "print(x + y) #Addition\n",
        "print(x - y) #Subtraction\n",
        "print(x * y) #Multiplication\n",
        "print(round(5/3),2) #Division\n",
        "print(x // y) #Floor Division\n",
        "print(x % y) #Modulus\n",
        "print(x ** y) #Exponentiation"
      ],
      "metadata": {
        "colab": {
          "base_uri": "https://localhost:8080/"
        },
        "id": "-RtYS4RnvOoS",
        "outputId": "120f0204-af74-46b9-d9b3-0f76d5e436bd"
      },
      "execution_count": 51,
      "outputs": [
        {
          "output_type": "stream",
          "name": "stdout",
          "text": [
            "5\n",
            "1\n",
            "6\n",
            "2 2\n",
            "1\n",
            "1\n",
            "9\n"
          ]
        }
      ]
    },
    {
      "cell_type": "markdown",
      "source": [
        "Assignment Operator"
      ],
      "metadata": {
        "id": "FDHONFA0wuvr"
      }
    },
    {
      "cell_type": "code",
      "source": [
        "x += 3 #Same as x = x + 3\n",
        "print(x)"
      ],
      "metadata": {
        "colab": {
          "base_uri": "https://localhost:8080/"
        },
        "id": "ac6bpan9wxoL",
        "outputId": "b4b546b9-13b4-443b-b669-a91c621cd4cd"
      },
      "execution_count": 52,
      "outputs": [
        {
          "output_type": "stream",
          "name": "stdout",
          "text": [
            "6\n"
          ]
        }
      ]
    },
    {
      "cell_type": "markdown",
      "source": [
        "Comparison Operator"
      ],
      "metadata": {
        "id": "UB0sm704xPKb"
      }
    },
    {
      "cell_type": "code",
      "source": [
        "print(x == y) #x = 3, y = 2\n",
        "print(x != y)\n",
        "print(x > y)\n",
        "print(x < y)"
      ],
      "metadata": {
        "colab": {
          "base_uri": "https://localhost:8080/"
        },
        "id": "vVWo_0oIxQ0T",
        "outputId": "d0b71e05-ee4d-4527-8ada-0eee6e7e010b"
      },
      "execution_count": 55,
      "outputs": [
        {
          "output_type": "stream",
          "name": "stdout",
          "text": [
            "False\n",
            "True\n",
            "True\n",
            "False\n"
          ]
        }
      ]
    },
    {
      "cell_type": "markdown",
      "source": [
        "Logical Operators"
      ],
      "metadata": {
        "id": "5b6x0Mkwx7GT"
      }
    },
    {
      "cell_type": "code",
      "source": [
        "print(x == y and x != y) #False and True\n",
        "print(x == y or x != y) #False or True\n",
        "print(not(x == y or x != y)) #Negate(False or True)"
      ],
      "metadata": {
        "colab": {
          "base_uri": "https://localhost:8080/"
        },
        "id": "n6GTdDypx9eT",
        "outputId": "82a224cc-e85c-4f81-dbf9-ce562fd24c61"
      },
      "execution_count": 60,
      "outputs": [
        {
          "output_type": "stream",
          "name": "stdout",
          "text": [
            "False\n",
            "True\n",
            "False\n"
          ]
        }
      ]
    },
    {
      "cell_type": "markdown",
      "source": [
        "Identity Operators"
      ],
      "metadata": {
        "id": "-8dd4jz6y67z"
      }
    },
    {
      "cell_type": "code",
      "source": [
        "x is y #x = 3, y = 2\n",
        "x is not y"
      ],
      "metadata": {
        "colab": {
          "base_uri": "https://localhost:8080/"
        },
        "id": "OnmK_rYny_UT",
        "outputId": "071c2cde-fc76-4383-d78b-4b268e04e47a"
      },
      "execution_count": 62,
      "outputs": [
        {
          "output_type": "execute_result",
          "data": {
            "text/plain": [
              "True"
            ]
          },
          "metadata": {},
          "execution_count": 62
        }
      ]
    },
    {
      "cell_type": "markdown",
      "source": [
        "Bitwise Operators"
      ],
      "metadata": {
        "id": "-rIm0VPezLzp"
      }
    },
    {
      "cell_type": "code",
      "source": [
        "#10 + 1 = 11  ; 1010 + 0001 = 1011\n",
        "print(10 | 1)\n",
        "\n",
        "print(x >> 1) #x = 3, 011"
      ],
      "metadata": {
        "colab": {
          "base_uri": "https://localhost:8080/"
        },
        "id": "fNbbK2YVzN9q",
        "outputId": "065c5a43-6fbd-47f3-caa9-a1738e840192"
      },
      "execution_count": 72,
      "outputs": [
        {
          "output_type": "stream",
          "name": "stdout",
          "text": [
            "11\n",
            "3\n"
          ]
        }
      ]
    },
    {
      "cell_type": "markdown",
      "source": [
        "Application 1"
      ],
      "metadata": {
        "id": "fDJeLxLf09nr"
      }
    },
    {
      "cell_type": "code",
      "source": [
        "#Create a Python program that displays your Fullname, Age, Course and Section\n",
        "\n",
        "Name = \"Lord Welchie P. De Juan\"\n",
        "Age = 20\n",
        "Course = \"Elective 3\"\n",
        "Section = 1\n",
        "\n",
        "print(\"Hello, I am \" + Name + \" and I am \", Age,  \" years old.\")\n",
        "print(\"I am a Computer Engineering Student at Pamantasan ng Lungsod ng Maynila.\")\n",
        "print(\"Currently, enrolled in\", Course, \"-\", Section, \"(BS CpE 3-1).\")\n"
      ],
      "metadata": {
        "colab": {
          "base_uri": "https://localhost:8080/"
        },
        "id": "XLuDxTTx0-yS",
        "outputId": "70abe622-86a8-49ed-8c92-3d6790112ef3"
      },
      "execution_count": 106,
      "outputs": [
        {
          "output_type": "stream",
          "name": "stdout",
          "text": [
            "Hello, I am Lord Welchie P. De Juan and I am  20  years old.\n",
            "I am a Computer Engineering Student at Pamantasan ng Lungsod ng Maynila.\n",
            "Currently, enrolled in Elective 3 - 1 (BS CpE 3-1).\n"
          ]
        }
      ]
    }
  ]
}