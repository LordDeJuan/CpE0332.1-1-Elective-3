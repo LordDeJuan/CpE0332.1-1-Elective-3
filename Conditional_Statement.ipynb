{
  "nbformat": 4,
  "nbformat_minor": 0,
  "metadata": {
    "colab": {
      "provenance": [],
      "authorship_tag": "ABX9TyNgOEt/cjQRBynJ8b+f4Gft",
      "include_colab_link": true
    },
    "kernelspec": {
      "name": "python3",
      "display_name": "Python 3"
    },
    "language_info": {
      "name": "python"
    }
  },
  "cells": [
    {
      "cell_type": "markdown",
      "metadata": {
        "id": "view-in-github",
        "colab_type": "text"
      },
      "source": [
        "<a href=\"https://colab.research.google.com/github/LordDeJuan/CpE0332.1-1-Elective-3/blob/main/Conditional_Statement.ipynb\" target=\"_parent\"><img src=\"https://colab.research.google.com/assets/colab-badge.svg\" alt=\"Open In Colab\"/></a>"
      ]
    },
    {
      "cell_type": "markdown",
      "source": [
        "If Statement"
      ],
      "metadata": {
        "id": "XqfImSH-COwi"
      }
    },
    {
      "cell_type": "code",
      "source": [
        "a = 12\n",
        "b = 100\n",
        "\n",
        "if a < b:\n",
        "  print(\"a is less than b\")"
      ],
      "metadata": {
        "colab": {
          "base_uri": "https://localhost:8080/"
        },
        "id": "nBXCV-ALCReZ",
        "outputId": "5e184179-61ee-44dd-846c-7d8f972d0098"
      },
      "execution_count": 5,
      "outputs": [
        {
          "output_type": "stream",
          "name": "stdout",
          "text": [
            "a is less than b\n"
          ]
        }
      ]
    },
    {
      "cell_type": "markdown",
      "source": [
        "Elif Statement"
      ],
      "metadata": {
        "id": "STejWwOlCn3R"
      }
    },
    {
      "cell_type": "code",
      "source": [
        "print(\"Enter your age:\")\n",
        "age = int(input())\n",
        "\n",
        "if age >= 18:\n",
        "  print(\"You are qualified to get a license.\")\n",
        "elif age < 18:\n",
        "  print(\"You are not qualified to get a license.\")"
      ],
      "metadata": {
        "colab": {
          "base_uri": "https://localhost:8080/"
        },
        "id": "8S41h5JhCp2i",
        "outputId": "e2f94e1d-3b32-4d97-a3eb-c4375ed27672"
      },
      "execution_count": 24,
      "outputs": [
        {
          "output_type": "stream",
          "name": "stdout",
          "text": [
            "Enter your age:\n",
            "17\n",
            "You are not qualified to get a license.\n"
          ]
        }
      ]
    },
    {
      "cell_type": "markdown",
      "source": [
        "Else Statement"
      ],
      "metadata": {
        "id": "yJ4i3U_-EiNR"
      }
    },
    {
      "cell_type": "code",
      "source": [
        "print(\"Enter an integer:\")\n",
        "x = int(input())\n",
        "\n",
        "if x > 0:\n",
        "  print(\"Positive number\")\n",
        "elif x < 0:\n",
        "  print(\"Negative number\")\n",
        "else:\n",
        "  print(\"Zero\")"
      ],
      "metadata": {
        "colab": {
          "base_uri": "https://localhost:8080/"
        },
        "id": "4b1exTUkEjRZ",
        "outputId": "83bab6f7-f0e1-4e54-8f8d-e3cacc9f7659"
      },
      "execution_count": 28,
      "outputs": [
        {
          "output_type": "stream",
          "name": "stdout",
          "text": [
            "Enter an integer:\n",
            "0\n",
            "Zero\n"
          ]
        }
      ]
    },
    {
      "cell_type": "markdown",
      "source": [
        "Short Hand If Statement"
      ],
      "metadata": {
        "id": "V5wZa2nPFRZa"
      }
    },
    {
      "cell_type": "code",
      "source": [
        "if a < b: print(\"a is less than b\")"
      ],
      "metadata": {
        "colab": {
          "base_uri": "https://localhost:8080/"
        },
        "id": "JVJBDmx9FTaK",
        "outputId": "2dab1b60-a712-4653-967f-0b392bf1c872"
      },
      "execution_count": 29,
      "outputs": [
        {
          "output_type": "stream",
          "name": "stdout",
          "text": [
            "a is less than b\n"
          ]
        }
      ]
    },
    {
      "cell_type": "markdown",
      "source": [
        "Short Hand If...Else Statement"
      ],
      "metadata": {
        "id": "8WKzXJIuGEyp"
      }
    },
    {
      "cell_type": "code",
      "source": [
        "print(\"a is greater than b\")  if a > b else print(\"b is greater than a\")"
      ],
      "metadata": {
        "colab": {
          "base_uri": "https://localhost:8080/"
        },
        "id": "IqUBpRHRGHpJ",
        "outputId": "1471f73d-02e5-45e0-ba5e-e9138fef9334"
      },
      "execution_count": 30,
      "outputs": [
        {
          "output_type": "stream",
          "name": "stdout",
          "text": [
            "b is greater than a\n"
          ]
        }
      ]
    },
    {
      "cell_type": "markdown",
      "source": [
        "And Statement"
      ],
      "metadata": {
        "id": "ynCclaeCGe8x"
      }
    },
    {
      "cell_type": "code",
      "source": [
        "c = 500\n",
        "\n",
        "if a > b and c > a:\n",
        "  print(\"Both statements are True\")"
      ],
      "metadata": {
        "id": "8AinA33_GhrJ"
      },
      "execution_count": 34,
      "outputs": []
    },
    {
      "cell_type": "markdown",
      "source": [
        "Or Statement"
      ],
      "metadata": {
        "id": "hwoU6KoPHKCx"
      }
    },
    {
      "cell_type": "code",
      "source": [
        "if a < b or c > a:\n",
        "  print(\"Both statements are True\")"
      ],
      "metadata": {
        "colab": {
          "base_uri": "https://localhost:8080/"
        },
        "id": "xax0KPs3HLzh",
        "outputId": "0039fa73-a2fd-46a2-993e-aad0c5d7c3f9"
      },
      "execution_count": 35,
      "outputs": [
        {
          "output_type": "stream",
          "name": "stdout",
          "text": [
            "Both statements are True\n"
          ]
        }
      ]
    },
    {
      "cell_type": "markdown",
      "source": [
        "Nested If Statement"
      ],
      "metadata": {
        "id": "4fXmquXqHtYJ"
      }
    },
    {
      "cell_type": "code",
      "source": [
        "print(\"Enter an integer:\")\n",
        "\n",
        "x = int(input())\n",
        "\n",
        "if x > 10:\n",
        "  print(\"Above ten\")\n",
        "  if x > 20:\n",
        "    print(\"and also above 20\")\n",
        "    if x > 30:\n",
        "      print(\"and also above 30\")\n",
        "      if x > 40:\n",
        "        print(\"and also above 40\")\n",
        "        if x > 50:\n",
        "          print(\"and also above 50\")\n",
        "        else:\n",
        "          print(\"not above 50\")\n",
        "      else:\n",
        "        print(\"not above 40\")\n",
        "    else:\n",
        "      print(\"not above 30\")\n",
        "  else:\n",
        "    print(\"not above 20\")\n",
        "else:\n",
        "  print(\"not above 10\")\n",
        ""
      ],
      "metadata": {
        "colab": {
          "base_uri": "https://localhost:8080/"
        },
        "id": "y_7edwalHwZJ",
        "outputId": "41e57563-d289-4e30-a420-78661321b45f"
      },
      "execution_count": 56,
      "outputs": [
        {
          "output_type": "stream",
          "name": "stdout",
          "text": [
            "Enter an integer:\n",
            "32\n",
            "Above ten\n",
            "and also above 20\n",
            "and also above 30\n",
            "not above 40\n"
          ]
        }
      ]
    },
    {
      "cell_type": "markdown",
      "source": [],
      "metadata": {
        "id": "GP0RXQcXLKSY"
      }
    }
  ]
}